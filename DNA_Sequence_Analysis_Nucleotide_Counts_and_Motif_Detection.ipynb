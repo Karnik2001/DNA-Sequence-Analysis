{
  "nbformat": 4,
  "nbformat_minor": 0,
  "metadata": {
    "colab": {
      "provenance": []
    },
    "kernelspec": {
      "name": "python3",
      "display_name": "Python 3"
    },
    "language_info": {
      "name": "python"
    }
  },
  "cells": [
    {
      "cell_type": "code",
      "source": [
        "# Sample of a dna sequence\n",
        "dna_sequence = \"ATTTCCCCGGGGTAAAATTTTCCCCGGG\""
      ],
      "metadata": {
        "id": "0CS7yu-muOaa"
      },
      "execution_count": 1,
      "outputs": []
    },
    {
      "cell_type": "code",
      "source": [
        "# Count individual nucleotide\n",
        "A = dna_sequence.count(\"A\")\n",
        "T = dna_sequence.count(\"T\")\n",
        "G = dna_sequence.count(\"G\")\n",
        "C = dna_sequence.count(\"C\")\n",
        "\n",
        "# print the results\n",
        "print(\"A:\", A)\n",
        "print(\"T:\", T)\n",
        "print(\"G:\", G)\n",
        "print(\"C:\", C)"
      ],
      "metadata": {
        "id": "lJqui1FOuOXr",
        "colab": {
          "base_uri": "https://localhost:8080/"
        },
        "outputId": "aa548471-85fe-41d7-9587-aec37ff940c6"
      },
      "execution_count": 2,
      "outputs": [
        {
          "output_type": "stream",
          "name": "stdout",
          "text": [
            "A: 5\n",
            "T: 8\n",
            "G: 7\n",
            "C: 8\n"
          ]
        }
      ]
    },
    {
      "cell_type": "code",
      "source": [
        "# Ecoli Lacz gene sequence\n",
        "eLacz_gene = \"ATGACCATGATTACGGATTCACTGGCCGTCGTTTTACAACGTCGTGACTGGGAAAACCCTGGCGTTAC\""
      ],
      "metadata": {
        "id": "W8FzaGmmuOVL"
      },
      "execution_count": 3,
      "outputs": []
    },
    {
      "cell_type": "code",
      "source": [
        "# define the pattern function\n",
        "def find_pattern(dna_sequence, pattern):\n",
        "    occurrences = []\n",
        "    start = 0\n",
        "    while True:\n",
        "        start = dna_sequence.find(pattern, start)\n",
        "        if start == -1: break\n",
        "        occurrences.append(start)\n",
        "        start += 1\n",
        "    return occurrences"
      ],
      "metadata": {
        "id": "LK4JbN4KuOSa"
      },
      "execution_count": 4,
      "outputs": []
    },
    {
      "cell_type": "code",
      "source": [
        "# store the Ecoli Lacz gene\n",
        "dna_sequence = eLacz_gene\n",
        "\n",
        "# choose set of nucleotides\n",
        "pattern = \"ATG\"\n",
        "pattern1 = \"TAG\"\n",
        "pattern2 = \"TGA\"\n",
        "pattern3 = \"TAA\"\n",
        "pattern4 = \"ATT\"\n",
        "\n",
        "# find all of the nucleotides in the Ecoli Lacz gene\n",
        "positions = find_pattern(dna_sequence, pattern)\n",
        "positions1 = find_pattern(dna_sequence, pattern1)\n",
        "positions2 = find_pattern(dna_sequence, pattern2)\n",
        "positions3 = find_pattern(dna_sequence, pattern3)\n",
        "positions4 = find_pattern(dna_sequence, pattern4)\n",
        "\n",
        "# print the results\n",
        "print(\"Pattern ‘ATG’ found at positions:\", positions)\n",
        "print(\"Pattern 'TAG' found at positions:\",positions1)\n",
        "print(\"Pattern 'TGA' found at positions:\",positions2)\n",
        "print(\"Pattern 'TAA' found at positions:\",positions3)\n",
        "print(\"Pattern 'ATT' found at positions:\",positions4)"
      ],
      "metadata": {
        "id": "JOvY_FlquOPy",
        "colab": {
          "base_uri": "https://localhost:8080/"
        },
        "outputId": "0ebb8239-050f-48c2-bfd8-f3e5c5d8e95a"
      },
      "execution_count": 5,
      "outputs": [
        {
          "output_type": "stream",
          "name": "stdout",
          "text": [
            "Pattern ‘ATG’ found at positions: [0, 6]\n",
            "Pattern 'TAG' found at positions: []\n",
            "Pattern 'TGA' found at positions: [1, 7, 44]\n",
            "Pattern 'TAA' found at positions: []\n",
            "Pattern 'ATT' found at positions: [9, 16]\n"
          ]
        }
      ]
    },
    {
      "cell_type": "markdown",
      "source": [
        "# Citations\n",
        "\n",
        "https://medium.com/gitconnected/counting-nucleotides-and-finding-patterns-in-a-dna-sequence-87a33c196b4c"
      ],
      "metadata": {
        "id": "8qDaCXzXNldP"
      }
    }
  ]
}